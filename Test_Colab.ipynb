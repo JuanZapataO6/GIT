{
  "nbformat": 4,
  "nbformat_minor": 0,
  "metadata": {
    "colab": {
      "name": "Test_Colab.ipynb",
      "provenance": [],
      "collapsed_sections": [],
      "authorship_tag": "ABX9TyOTGNO+wpxCyd0xI/n9A/54",
      "include_colab_link": true
    },
    "kernelspec": {
      "name": "python3",
      "display_name": "Python 3"
    }
  },
  "cells": [
    {
      "cell_type": "markdown",
      "metadata": {
        "id": "view-in-github",
        "colab_type": "text"
      },
      "source": [
        "<a href=\"https://colab.research.google.com/github/JuanZapataO6/GIT/blob/main/Test_Colab.ipynb\" target=\"_parent\"><img src=\"https://colab.research.google.com/assets/colab-badge.svg\" alt=\"Open In Colab\"/></a>"
      ]
    },
    {
      "cell_type": "markdown",
      "metadata": {
        "id": "TGG5yZz-FpxM"
      },
      "source": [
        "# Arquitecturas Digitales y RISC\n",
        "# Introducción a Collaboratory \n",
        "## Usando Jupyter para crear *Notebooks*\n",
        "\n",
        "<img style=\"float: right; padding-right: 10px; width: 140px\" src=\"http://drive.google.com/uc?export=view&id=1GC-aPjsLpinikZNjZlGocVgUw_OO3OWJ\">\n",
        "\n",
        "<img style=\"float: right; padding-right: 10px; width: 140px\" src=\" http://drive.google.com/uc?export=view&id=1pxsPAJK5etYYZz0lg5GBhbWO8Veyte_v\">\n",
        "\n",
        "**Universidad del Valle** <br>\n",
        "**Escuela de Ingeniería Eléctrica y Electrónica** <br> \n",
        "**Estudiante:** Juan  Pablo Zapata Ocampo <br> "
      ]
    },
    {
      "cell_type": "code",
      "metadata": {
        "id": "k2wITCHFFo8_"
      },
      "source": [
        "# importa la librería de programación numérica rápida y le asigna el nombre\n",
        "# corto \"np\" como referencia rápida\n",
        "import numpy as np"
      ],
      "execution_count": null,
      "outputs": []
    }
  ]
}