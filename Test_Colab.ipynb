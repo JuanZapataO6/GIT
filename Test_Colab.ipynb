{
  "nbformat": 4,
  "nbformat_minor": 0,
  "metadata": {
    "colab": {
      "name": "Test_Colab.ipynb",
      "provenance": [],
      "collapsed_sections": [],
      "authorship_tag": "ABX9TyNtUtZzDMY46AiXvGedMdGZ",
      "include_colab_link": true
    },
    "kernelspec": {
      "name": "python3",
      "display_name": "Python 3"
    }
  },
  "cells": [
    {
      "cell_type": "markdown",
      "metadata": {
        "id": "view-in-github",
        "colab_type": "text"
      },
      "source": [
        "<a href=\"https://colab.research.google.com/github/JuanZapataO6/GIT/blob/main/Test_Colab.ipynb\" target=\"_parent\"><img src=\"https://colab.research.google.com/assets/colab-badge.svg\" alt=\"Open In Colab\"/></a>"
      ]
    },
    {
      "cell_type": "markdown",
      "metadata": {
        "id": "TGG5yZz-FpxM"
      },
      "source": [
        "# Arquitecturas Digitales y RISC\n",
        "# Introducción a Collaboratory \n",
        "## Usando Jupyter para crear *Notebooks*\n",
        "\n",
        "<img style=\"float: right; padding-right: 10px; width: 140px\" src=\"https://doc-10-8s-docs.googleusercontent.com/docs/securesc/19scunhvtoovv70bc8vivp32bntlrmo3/7bgvdgnog7pc97d12vm0gq8s7nccq3dq/1603287675000/14110846162081832587/11469636911827657720/1GC-aPjsLpinikZNjZlGocVgUw_OO3OWJ?e=view&authuser=1&nonce=sb21onb6sj062&user=11469636911827657720&hash=s22tsvsdu18i0ej2okkfub15913s6pg3\">\n",
        "<img style=\"float: right; padding-right: 10px; width: 140px\" src=\"https://doc-0o-8s-docs.googleusercontent.com/docs/securesc/19scunhvtoovv70bc8vivp32bntlrmo3/7dcb5du2jba8q5ugvjr3kgisthor0rh9/1603283400000/14110846162081832587/11469636911827657720/1pxsPAJK5etYYZz0lg5GBhbWO8Veyte_v?e=view&authuser=1&nonce=4b1p8qn5gke20&user=11469636911827657720&hash=6ijok2ecm063f748s65fn258f4vu6j15\">\n",
        "\n",
        "**Universidad del Valle** <br>\n",
        "**Escuela de Ingeniería Eléctrica y Electrónica** <br> \n",
        "**Estudiante:** Juan  Pablo Zapata Ocampo <br> "
      ]
    },
    {
      "cell_type": "code",
      "metadata": {
        "id": "k2wITCHFFo8_"
      },
      "source": [
        "# importa la librería de programación numérica rápida y le asigna el nombre\n",
        "# corto \"np\" como referencia rápida\n",
        "import numpy as np"
      ],
      "execution_count": 2,
      "outputs": []
    }
  ]
}